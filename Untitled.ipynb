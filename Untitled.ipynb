{
 "cells": [
  {
   "cell_type": "code",
   "execution_count": 1,
   "metadata": {},
   "outputs": [],
   "source": [
    "import nltk;"
   ]
  },
  {
   "cell_type": "code",
   "execution_count": 3,
   "metadata": {},
   "outputs": [
    {
     "ename": "ModuleNotFoundError",
     "evalue": "No module named 'Sastrawi'",
     "output_type": "error",
     "traceback": [
      "\u001b[1;31m---------------------------------------------------------------------------\u001b[0m",
      "\u001b[1;31mModuleNotFoundError\u001b[0m                       Traceback (most recent call last)",
      "\u001b[1;32m<ipython-input-3-c9ac92600048>\u001b[0m in \u001b[0;36m<module>\u001b[1;34m\u001b[0m\n\u001b[0;32m      4\u001b[0m \u001b[1;32mfrom\u001b[0m \u001b[0mnltk\u001b[0m\u001b[1;33m.\u001b[0m\u001b[0mtokenize\u001b[0m \u001b[1;32mimport\u001b[0m \u001b[0mword_tokenize\u001b[0m\u001b[1;33m\u001b[0m\u001b[1;33m\u001b[0m\u001b[0m\n\u001b[0;32m      5\u001b[0m \u001b[1;32mfrom\u001b[0m \u001b[0mnltk\u001b[0m\u001b[1;33m.\u001b[0m\u001b[0mcorpus\u001b[0m \u001b[1;32mimport\u001b[0m \u001b[0mstopwords\u001b[0m\u001b[1;33m\u001b[0m\u001b[1;33m\u001b[0m\u001b[0m\n\u001b[1;32m----> 6\u001b[1;33m \u001b[1;32mfrom\u001b[0m \u001b[0mSastrawi\u001b[0m\u001b[1;33m.\u001b[0m\u001b[0mStemmer\u001b[0m\u001b[1;33m.\u001b[0m\u001b[0mStemmerFactory\u001b[0m \u001b[1;32mimport\u001b[0m \u001b[0mStemmerFactory\u001b[0m\u001b[1;33m\u001b[0m\u001b[1;33m\u001b[0m\u001b[0m\n\u001b[0m",
      "\u001b[1;31mModuleNotFoundError\u001b[0m: No module named 'Sastrawi'"
     ]
    }
   ],
   "source": [
    "import pandas as pd;\n",
    "import string \n",
    "import re #regex library\n",
    "from nltk.tokenize import word_tokenize\n",
    "from nltk.corpus import stopwords\n",
    "from Sastrawi.Stemmer.StemmerFactory import StemmerFactory"
   ]
  },
  {
   "cell_type": "code",
   "execution_count": 3,
   "metadata": {},
   "outputs": [
    {
     "data": {
      "text/html": [
       "<div>\n",
       "<style scoped>\n",
       "    .dataframe tbody tr th:only-of-type {\n",
       "        vertical-align: middle;\n",
       "    }\n",
       "\n",
       "    .dataframe tbody tr th {\n",
       "        vertical-align: top;\n",
       "    }\n",
       "\n",
       "    .dataframe thead th {\n",
       "        text-align: right;\n",
       "    }\n",
       "</style>\n",
       "<table border=\"1\" class=\"dataframe\">\n",
       "  <thead>\n",
       "    <tr style=\"text-align: right;\">\n",
       "      <th></th>\n",
       "      <th>Unnamed: 0</th>\n",
       "      <th>isi</th>\n",
       "      <th>judul</th>\n",
       "      <th>link</th>\n",
       "    </tr>\n",
       "  </thead>\n",
       "  <tbody>\n",
       "    <tr>\n",
       "      <th>0</th>\n",
       "      <td>0</td>\n",
       "      <td>KONTAN.CO.ID - JAKARTA. Harga emas batangan be...</td>\n",
       "      <td>Harga emas Antam hari ini turun Rp 5.000 ke le...</td>\n",
       "      <td>https://investasi.kontan.co.id/news/harga-emas...</td>\n",
       "    </tr>\n",
       "    <tr>\n",
       "      <th>1</th>\n",
       "      <td>1</td>\n",
       "      <td>KONTAN.CO.ID - JAKARTA. Indeks Harga Saham Gab...</td>\n",
       "      <td>Penguatan IHSG berpotensi lanjut pekan depan, ...</td>\n",
       "      <td>https://investasi.kontan.co.id/news/penguatan-...</td>\n",
       "    </tr>\n",
       "    <tr>\n",
       "      <th>2</th>\n",
       "      <td>2</td>\n",
       "      <td>KONTAN.CO.ID - JAKARTA. PT Buyung Poetra Semba...</td>\n",
       "      <td>Buyung Poetra Sembada (HOKI) akan stock split ...</td>\n",
       "      <td>https://investasi.kontan.co.id/news/buyung-poe...</td>\n",
       "    </tr>\n",
       "    <tr>\n",
       "      <th>3</th>\n",
       "      <td>3</td>\n",
       "      <td>KONTAN.CO.ID - JAKARTA. Dengan tidak adanya pe...</td>\n",
       "      <td>Simak proyeksi pergerak rupiah untuk pekan depan</td>\n",
       "      <td>https://investasi.kontan.co.id/news/simak-proy...</td>\n",
       "    </tr>\n",
       "    <tr>\n",
       "      <th>4</th>\n",
       "      <td>4</td>\n",
       "      <td>KONTAN.CO.ID - JAKARTA. Rupiah di pasar spot b...</td>\n",
       "      <td>Rupiah menguat 0,33% dalam sepekan, begini pro...</td>\n",
       "      <td>https://investasi.kontan.co.id/news/rupiah-men...</td>\n",
       "    </tr>\n",
       "  </tbody>\n",
       "</table>\n",
       "</div>"
      ],
      "text/plain": [
       "   Unnamed: 0                                                isi  \\\n",
       "0           0  KONTAN.CO.ID - JAKARTA. Harga emas batangan be...   \n",
       "1           1  KONTAN.CO.ID - JAKARTA. Indeks Harga Saham Gab...   \n",
       "2           2  KONTAN.CO.ID - JAKARTA. PT Buyung Poetra Semba...   \n",
       "3           3  KONTAN.CO.ID - JAKARTA. Dengan tidak adanya pe...   \n",
       "4           4  KONTAN.CO.ID - JAKARTA. Rupiah di pasar spot b...   \n",
       "\n",
       "                                               judul  \\\n",
       "0  Harga emas Antam hari ini turun Rp 5.000 ke le...   \n",
       "1  Penguatan IHSG berpotensi lanjut pekan depan, ...   \n",
       "2  Buyung Poetra Sembada (HOKI) akan stock split ...   \n",
       "3   Simak proyeksi pergerak rupiah untuk pekan depan   \n",
       "4  Rupiah menguat 0,33% dalam sepekan, begini pro...   \n",
       "\n",
       "                                                link  \n",
       "0  https://investasi.kontan.co.id/news/harga-emas...  \n",
       "1  https://investasi.kontan.co.id/news/penguatan-...  \n",
       "2  https://investasi.kontan.co.id/news/buyung-poe...  \n",
       "3  https://investasi.kontan.co.id/news/simak-proy...  \n",
       "4  https://investasi.kontan.co.id/news/rupiah-men...  "
      ]
     },
     "execution_count": 3,
     "metadata": {},
     "output_type": "execute_result"
    }
   ],
   "source": [
    "df= pd.read_csv('datasetberita.csv')\n",
    "df.head()"
   ]
  },
  {
   "cell_type": "code",
   "execution_count": 4,
   "metadata": {},
   "outputs": [
    {
     "data": {
      "text/plain": [
       "'KONTAN.CO.ID - JAKARTA. Harga emas batangan bersertifikat Antam keluaran Logam Mulia PT Aneka Tambang Tbk (ANTM) turun pada Sabtu (12/2).Mengutip situs Logam Mulia, harga pecahan satu gram emas Antam berada di Rp 940.000. Harga emas Antam ini turun dari harga Kamis (11/2) sebesar Rp 945.000 per gram.Sementara harga buyback emas Antam juga tetap berada di level Rp 820.000 per gram, turun Rp 5.000 dari harga buyback pada Kamis (11/2) yang ada di Rp 825.000 per gram. Baca Juga: Tak berubah, harga emas Antam hari ini tetap di Rp 945.000 per gram, Kamis (11/2)Berikut harga emas batangan Antam dalam pecahan lainnya per Sabtu (13/2) dan belum termasuk pajak:Keterangan:Logam Mulia Antam menjual emas dan perak batangan dalam beberapa ukuran berat (misalnya 1 gram, 2 gram, dan 500 gram). Biasanya harga per gram emas Antam akan berbeda tergantung berat batangnya. Perbedaan ini terjadi karena ada biaya tambahan untuk pencetakan, sehingga harga per gram emas Antam batang kecil lebih mahal dari batang yang lebih besar. Harga yang ada di sini adalah harga per gram emas batang 1 kilogram yang biasa dijadikan patokan pelaku bisnis emas. '"
      ]
     },
     "execution_count": 4,
     "metadata": {},
     "output_type": "execute_result"
    }
   ],
   "source": [
    "berita = df['isi']\n",
    "contoh = berita[0]\n",
    "contoh"
   ]
  },
  {
   "cell_type": "code",
   "execution_count": 5,
   "metadata": {},
   "outputs": [
    {
     "data": {
      "text/plain": [
       "'kontan.co.id - jakarta. harga emas batangan bersertifikat antam keluaran logam mulia pt aneka tambang tbk (antm) turun pada sabtu (12/2).mengutip situs logam mulia, harga pecahan satu gram emas antam berada di rp 940.000. harga emas antam ini turun dari harga kamis (11/2) sebesar rp 945.000 per gram.sementara harga buyback emas antam juga tetap berada di level rp 820.000 per gram, turun rp 5.000 dari harga buyback pada kamis (11/2) yang ada di rp 825.000 per gram. baca juga: tak berubah, harga emas antam hari ini tetap di rp 945.000 per gram, kamis (11/2)berikut harga emas batangan antam dalam pecahan lainnya per sabtu (13/2) dan belum termasuk pajak:keterangan:logam mulia antam menjual emas dan perak batangan dalam beberapa ukuran berat (misalnya 1 gram, 2 gram, dan 500 gram). biasanya harga per gram emas antam akan berbeda tergantung berat batangnya. perbedaan ini terjadi karena ada biaya tambahan untuk pencetakan, sehingga harga per gram emas antam batang kecil lebih mahal dari batang yang lebih besar. harga yang ada di sini adalah harga per gram emas batang 1 kilogram yang biasa dijadikan patokan pelaku bisnis emas. '"
      ]
     },
     "execution_count": 5,
     "metadata": {},
     "output_type": "execute_result"
    }
   ],
   "source": [
    "#Case Folding\n",
    "contoh = contoh.lower()\n",
    "contoh"
   ]
  },
  {
   "cell_type": "code",
   "execution_count": 6,
   "metadata": {},
   "outputs": [],
   "source": [
    "#Tokenizing\n",
    "#remove angka\n",
    "tokenize = re.sub(r\"\\d+\",\"\",contoh)"
   ]
  },
  {
   "cell_type": "code",
   "execution_count": 7,
   "metadata": {},
   "outputs": [
    {
     "data": {
      "text/plain": [
       "'kontancoid  jakarta harga emas batangan bersertifikat antam keluaran logam mulia pt aneka tambang tbk antm turun pada sabtu mengutip situs logam mulia harga pecahan satu gram emas antam berada di rp  harga emas antam ini turun dari harga kamis  sebesar rp  per gramsementara harga buyback emas antam juga tetap berada di level rp  per gram turun rp  dari harga buyback pada kamis  yang ada di rp  per gram baca juga tak berubah harga emas antam hari ini tetap di rp  per gram kamis berikut harga emas batangan antam dalam pecahan lainnya per sabtu  dan belum termasuk pajakketeranganlogam mulia antam menjual emas dan perak batangan dalam beberapa ukuran berat misalnya  gram  gram dan  gram biasanya harga per gram emas antam akan berbeda tergantung berat batangnya perbedaan ini terjadi karena ada biaya tambahan untuk pencetakan sehingga harga per gram emas antam batang kecil lebih mahal dari batang yang lebih besar harga yang ada di sini adalah harga per gram emas batang  kilogram yang biasa dijadikan patokan pelaku bisnis emas '"
      ]
     },
     "execution_count": 7,
     "metadata": {},
     "output_type": "execute_result"
    }
   ],
   "source": [
    "#remove puntuation\n",
    "tokenize = tokenize.translate(str.maketrans(\"\",\"\",string.punctuation))\n",
    "tokenize"
   ]
  },
  {
   "cell_type": "code",
   "execution_count": 8,
   "metadata": {},
   "outputs": [
    {
     "data": {
      "text/plain": [
       "'kontancoid  jakarta harga emas batangan bersertifikat antam keluaran logam mulia pt aneka tambang tbk antm turun pada sabtu mengutip situs logam mulia harga pecahan satu gram emas antam berada di rp  harga emas antam ini turun dari harga kamis  sebesar rp  per gramsementara harga buyback emas antam juga tetap berada di level rp  per gram turun rp  dari harga buyback pada kamis  yang ada di rp  per gram baca juga tak berubah harga emas antam hari ini tetap di rp  per gram kamis berikut harga emas batangan antam dalam pecahan lainnya per sabtu  dan belum termasuk pajakketeranganlogam mulia antam menjual emas dan perak batangan dalam beberapa ukuran berat misalnya  gram  gram dan  gram biasanya harga per gram emas antam akan berbeda tergantung berat batangnya perbedaan ini terjadi karena ada biaya tambahan untuk pencetakan sehingga harga per gram emas antam batang kecil lebih mahal dari batang yang lebih besar harga yang ada di sini adalah harga per gram emas batang  kilogram yang biasa dijadikan patokan pelaku bisnis emas'"
      ]
     },
     "execution_count": 8,
     "metadata": {},
     "output_type": "execute_result"
    }
   ],
   "source": [
    "#remove white space leading & trailing\n",
    "tokenize = tokenize.strip()\n",
    "tokenize"
   ]
  },
  {
   "cell_type": "code",
   "execution_count": 9,
   "metadata": {},
   "outputs": [
    {
     "data": {
      "text/plain": [
       "'kontancoid jakarta harga emas batangan bersertifikat antam keluaran logam mulia pt aneka tambang tbk antm turun pada sabtu mengutip situs logam mulia harga pecahan satu gram emas antam berada di rp harga emas antam ini turun dari harga kamis sebesar rp per gramsementara harga buyback emas antam juga tetap berada di level rp per gram turun rp dari harga buyback pada kamis yang ada di rp per gram baca juga tak berubah harga emas antam hari ini tetap di rp per gram kamis berikut harga emas batangan antam dalam pecahan lainnya per sabtu dan belum termasuk pajakketeranganlogam mulia antam menjual emas dan perak batangan dalam beberapa ukuran berat misalnya gram gram dan gram biasanya harga per gram emas antam akan berbeda tergantung berat batangnya perbedaan ini terjadi karena ada biaya tambahan untuk pencetakan sehingga harga per gram emas antam batang kecil lebih mahal dari batang yang lebih besar harga yang ada di sini adalah harga per gram emas batang kilogram yang biasa dijadikan patokan pelaku bisnis emas'"
      ]
     },
     "execution_count": 9,
     "metadata": {},
     "output_type": "execute_result"
    }
   ],
   "source": [
    "#remove multiple whitespace into single whitespace\n",
    "tokenize = re.sub('\\s+',' ',tokenize)\n",
    "tokenize"
   ]
  },
  {
   "cell_type": "code",
   "execution_count": 10,
   "metadata": {},
   "outputs": [
    {
     "data": {
      "text/plain": [
       "['kontancoid',\n",
       " 'jakarta',\n",
       " 'harga',\n",
       " 'emas',\n",
       " 'batangan',\n",
       " 'bersertifikat',\n",
       " 'antam',\n",
       " 'keluaran',\n",
       " 'logam',\n",
       " 'mulia',\n",
       " 'pt',\n",
       " 'aneka',\n",
       " 'tambang',\n",
       " 'tbk',\n",
       " 'antm',\n",
       " 'turun',\n",
       " 'pada',\n",
       " 'sabtu',\n",
       " 'mengutip',\n",
       " 'situs',\n",
       " 'logam',\n",
       " 'mulia',\n",
       " 'harga',\n",
       " 'pecahan',\n",
       " 'satu',\n",
       " 'gram',\n",
       " 'emas',\n",
       " 'antam',\n",
       " 'berada',\n",
       " 'di',\n",
       " 'rp',\n",
       " 'harga',\n",
       " 'emas',\n",
       " 'antam',\n",
       " 'ini',\n",
       " 'turun',\n",
       " 'dari',\n",
       " 'harga',\n",
       " 'kamis',\n",
       " 'sebesar',\n",
       " 'rp',\n",
       " 'per',\n",
       " 'gramsementara',\n",
       " 'harga',\n",
       " 'buyback',\n",
       " 'emas',\n",
       " 'antam',\n",
       " 'juga',\n",
       " 'tetap',\n",
       " 'berada',\n",
       " 'di',\n",
       " 'level',\n",
       " 'rp',\n",
       " 'per',\n",
       " 'gram',\n",
       " 'turun',\n",
       " 'rp',\n",
       " 'dari',\n",
       " 'harga',\n",
       " 'buyback',\n",
       " 'pada',\n",
       " 'kamis',\n",
       " 'yang',\n",
       " 'ada',\n",
       " 'di',\n",
       " 'rp',\n",
       " 'per',\n",
       " 'gram',\n",
       " 'baca',\n",
       " 'juga',\n",
       " 'tak',\n",
       " 'berubah',\n",
       " 'harga',\n",
       " 'emas',\n",
       " 'antam',\n",
       " 'hari',\n",
       " 'ini',\n",
       " 'tetap',\n",
       " 'di',\n",
       " 'rp',\n",
       " 'per',\n",
       " 'gram',\n",
       " 'kamis',\n",
       " 'berikut',\n",
       " 'harga',\n",
       " 'emas',\n",
       " 'batangan',\n",
       " 'antam',\n",
       " 'dalam',\n",
       " 'pecahan',\n",
       " 'lainnya',\n",
       " 'per',\n",
       " 'sabtu',\n",
       " 'dan',\n",
       " 'belum',\n",
       " 'termasuk',\n",
       " 'pajakketeranganlogam',\n",
       " 'mulia',\n",
       " 'antam',\n",
       " 'menjual',\n",
       " 'emas',\n",
       " 'dan',\n",
       " 'perak',\n",
       " 'batangan',\n",
       " 'dalam',\n",
       " 'beberapa',\n",
       " 'ukuran',\n",
       " 'berat',\n",
       " 'misalnya',\n",
       " 'gram',\n",
       " 'gram',\n",
       " 'dan',\n",
       " 'gram',\n",
       " 'biasanya',\n",
       " 'harga',\n",
       " 'per',\n",
       " 'gram',\n",
       " 'emas',\n",
       " 'antam',\n",
       " 'akan',\n",
       " 'berbeda',\n",
       " 'tergantung',\n",
       " 'berat',\n",
       " 'batangnya',\n",
       " 'perbedaan',\n",
       " 'ini',\n",
       " 'terjadi',\n",
       " 'karena',\n",
       " 'ada',\n",
       " 'biaya',\n",
       " 'tambahan',\n",
       " 'untuk',\n",
       " 'pencetakan',\n",
       " 'sehingga',\n",
       " 'harga',\n",
       " 'per',\n",
       " 'gram',\n",
       " 'emas',\n",
       " 'antam',\n",
       " 'batang',\n",
       " 'kecil',\n",
       " 'lebih',\n",
       " 'mahal',\n",
       " 'dari',\n",
       " 'batang',\n",
       " 'yang',\n",
       " 'lebih',\n",
       " 'besar',\n",
       " 'harga',\n",
       " 'yang',\n",
       " 'ada',\n",
       " 'di',\n",
       " 'sini',\n",
       " 'adalah',\n",
       " 'harga',\n",
       " 'per',\n",
       " 'gram',\n",
       " 'emas',\n",
       " 'batang',\n",
       " 'kilogram',\n",
       " 'yang',\n",
       " 'biasa',\n",
       " 'dijadikan',\n",
       " 'patokan',\n",
       " 'pelaku',\n",
       " 'bisnis',\n",
       " 'emas']"
      ]
     },
     "execution_count": 10,
     "metadata": {},
     "output_type": "execute_result"
    }
   ],
   "source": [
    "token = nltk.tokenize.word_tokenize(tokenize)\n",
    "token"
   ]
  },
  {
   "cell_type": "code",
   "execution_count": 11,
   "metadata": {},
   "outputs": [
    {
     "data": {
      "text/plain": [
       "[('harga', 12),\n",
       " ('emas', 11),\n",
       " ('gram', 10),\n",
       " ('antam', 9),\n",
       " ('per', 8),\n",
       " ('rp', 6),\n",
       " ('di', 5),\n",
       " ('yang', 4),\n",
       " ('batangan', 3),\n",
       " ('mulia', 3),\n",
       " ('turun', 3),\n",
       " ('ini', 3),\n",
       " ('dari', 3),\n",
       " ('kamis', 3),\n",
       " ('ada', 3),\n",
       " ('dan', 3),\n",
       " ('batang', 3),\n",
       " ('logam', 2),\n",
       " ('pada', 2),\n",
       " ('sabtu', 2),\n",
       " ('pecahan', 2),\n",
       " ('berada', 2),\n",
       " ('buyback', 2),\n",
       " ('juga', 2),\n",
       " ('tetap', 2),\n",
       " ('dalam', 2),\n",
       " ('berat', 2),\n",
       " ('lebih', 2),\n",
       " ('kontancoid', 1),\n",
       " ('jakarta', 1),\n",
       " ('bersertifikat', 1),\n",
       " ('keluaran', 1),\n",
       " ('pt', 1),\n",
       " ('aneka', 1),\n",
       " ('tambang', 1),\n",
       " ('tbk', 1),\n",
       " ('antm', 1),\n",
       " ('mengutip', 1),\n",
       " ('situs', 1),\n",
       " ('satu', 1),\n",
       " ('sebesar', 1),\n",
       " ('gramsementara', 1),\n",
       " ('level', 1),\n",
       " ('baca', 1),\n",
       " ('tak', 1),\n",
       " ('berubah', 1),\n",
       " ('hari', 1),\n",
       " ('berikut', 1),\n",
       " ('lainnya', 1),\n",
       " ('belum', 1),\n",
       " ('termasuk', 1),\n",
       " ('pajakketeranganlogam', 1),\n",
       " ('menjual', 1),\n",
       " ('perak', 1),\n",
       " ('beberapa', 1),\n",
       " ('ukuran', 1),\n",
       " ('misalnya', 1),\n",
       " ('biasanya', 1),\n",
       " ('akan', 1),\n",
       " ('berbeda', 1),\n",
       " ('tergantung', 1),\n",
       " ('batangnya', 1),\n",
       " ('perbedaan', 1),\n",
       " ('terjadi', 1),\n",
       " ('karena', 1),\n",
       " ('biaya', 1),\n",
       " ('tambahan', 1),\n",
       " ('untuk', 1),\n",
       " ('pencetakan', 1),\n",
       " ('sehingga', 1),\n",
       " ('kecil', 1),\n",
       " ('mahal', 1),\n",
       " ('besar', 1),\n",
       " ('sini', 1),\n",
       " ('adalah', 1),\n",
       " ('kilogram', 1),\n",
       " ('biasa', 1),\n",
       " ('dijadikan', 1),\n",
       " ('patokan', 1),\n",
       " ('pelaku', 1),\n",
       " ('bisnis', 1)]"
      ]
     },
     "execution_count": 11,
     "metadata": {},
     "output_type": "execute_result"
    }
   ],
   "source": [
    "freq_tokens = nltk.FreqDist(token)\n",
    "freq_tokens.most_common()"
   ]
  },
  {
   "cell_type": "code",
   "execution_count": 14,
   "metadata": {},
   "outputs": [
    {
     "data": {
      "text/plain": [
       "['harga',\n",
       " 'emas',\n",
       " 'gram',\n",
       " 'antam',\n",
       " 'rp',\n",
       " 'batangan',\n",
       " 'mulia',\n",
       " 'turun',\n",
       " 'kamis',\n",
       " 'batang',\n",
       " 'logam',\n",
       " 'sabtu',\n",
       " 'pecahan',\n",
       " 'buyback',\n",
       " 'berat',\n",
       " 'kontancoid',\n",
       " 'jakarta',\n",
       " 'bersertifikat',\n",
       " 'keluaran',\n",
       " 'pt',\n",
       " 'aneka',\n",
       " 'tambang',\n",
       " 'tbk',\n",
       " 'antm',\n",
       " 'mengutip',\n",
       " 'situs',\n",
       " 'gramsementara',\n",
       " 'level',\n",
       " 'baca',\n",
       " 'berubah',\n",
       " 'pajakketeranganlogam',\n",
       " 'menjual',\n",
       " 'perak',\n",
       " 'ukuran',\n",
       " 'berbeda',\n",
       " 'tergantung',\n",
       " 'batangnya',\n",
       " 'perbedaan',\n",
       " 'biaya',\n",
       " 'tambahan',\n",
       " 'pencetakan',\n",
       " 'mahal',\n",
       " 'kilogram',\n",
       " 'dijadikan',\n",
       " 'patokan',\n",
       " 'pelaku',\n",
       " 'bisnis']"
      ]
     },
     "execution_count": 14,
     "metadata": {},
     "output_type": "execute_result"
    }
   ],
   "source": [
    "#get indonesia stop word\n",
    "list_stopwords = set(stopwords.words('indonesian'))\n",
    "#remove stopwords pada list token\n",
    "tokens_without_stopword = [word for word in freq_tokens if not word in list_stopwords]\n",
    "tokens_without_stopword"
   ]
  },
  {
   "cell_type": "code",
   "execution_count": 1,
   "metadata": {},
   "outputs": [
    {
     "ename": "NameError",
     "evalue": "name 'StemmerFactory' is not defined",
     "output_type": "error",
     "traceback": [
      "\u001b[1;31m---------------------------------------------------------------------------\u001b[0m",
      "\u001b[1;31mNameError\u001b[0m                                 Traceback (most recent call last)",
      "\u001b[1;32m<ipython-input-1-5cda04278d91>\u001b[0m in \u001b[0;36m<module>\u001b[1;34m\u001b[0m\n\u001b[0;32m      1\u001b[0m \u001b[1;31m# create stemmer\u001b[0m\u001b[1;33m\u001b[0m\u001b[1;33m\u001b[0m\u001b[1;33m\u001b[0m\u001b[0m\n\u001b[1;32m----> 2\u001b[1;33m \u001b[0mfactory\u001b[0m \u001b[1;33m=\u001b[0m \u001b[0mStemmerFactory\u001b[0m\u001b[1;33m(\u001b[0m\u001b[1;33m)\u001b[0m\u001b[1;33m\u001b[0m\u001b[1;33m\u001b[0m\u001b[0m\n\u001b[0m\u001b[0;32m      3\u001b[0m \u001b[0mstemmer\u001b[0m \u001b[1;33m=\u001b[0m \u001b[0mfactory\u001b[0m\u001b[1;33m.\u001b[0m\u001b[0mcreate_stemmer\u001b[0m\u001b[1;33m(\u001b[0m\u001b[1;33m)\u001b[0m\u001b[1;33m\u001b[0m\u001b[1;33m\u001b[0m\u001b[0m\n\u001b[0;32m      4\u001b[0m \u001b[1;33m\u001b[0m\u001b[0m\n\u001b[0;32m      5\u001b[0m \u001b[1;31m# token without stopword\u001b[0m\u001b[1;33m\u001b[0m\u001b[1;33m\u001b[0m\u001b[1;33m\u001b[0m\u001b[0m\n",
      "\u001b[1;31mNameError\u001b[0m: name 'StemmerFactory' is not defined"
     ]
    }
   ],
   "source": [
    "# create stemmer\n",
    "factory = StemmerFactory()\n",
    "stemmer = factory.create_stemmer()\n",
    "\n",
    "# token without stopword\n",
    "list_tokens = tokens_without_stopword\n",
    "\n",
    "# stem\n",
    "output   = [(token + \" : \" + stemmer.stem(token)) for token in list_tokens]\n",
    "\n",
    "output"
   ]
  },
  {
   "cell_type": "code",
   "execution_count": null,
   "metadata": {},
   "outputs": [],
   "source": []
  }
 ],
 "metadata": {
  "kernelspec": {
   "display_name": "Python 3",
   "language": "python",
   "name": "python3"
  },
  "language_info": {
   "codemirror_mode": {
    "name": "ipython",
    "version": 3
   },
   "file_extension": ".py",
   "mimetype": "text/x-python",
   "name": "python",
   "nbconvert_exporter": "python",
   "pygments_lexer": "ipython3",
   "version": "3.8.3"
  }
 },
 "nbformat": 4,
 "nbformat_minor": 4
}
